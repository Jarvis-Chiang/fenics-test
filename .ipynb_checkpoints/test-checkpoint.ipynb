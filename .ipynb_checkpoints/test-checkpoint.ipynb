{
 "cells": [
  {
   "cell_type": "code",
   "execution_count": null,
   "metadata": {},
   "outputs": [],
   "source": [
    "from dolfin import *\n",
    "from ufl import as_ufl\n",
    "import mshr as mr"
   ]
  },
  {
   "cell_type": "code",
   "execution_count": null,
   "metadata": {},
   "outputs": [],
   "source": [
    "rectangle = mr.Rectangle(Point(0,0), Point(5,5))\n",
    "mesh = mr.generate_mesh(rectangle, 16)\n",
    "plot(mesh)"
   ]
  },
  {
   "cell_type": "code",
   "execution_count": null,
   "metadata": {},
   "outputs": [],
   "source": [
    "# 定义设计变量\n",
    "theta = Expression('x[0]*x[0]+x[1]*x[1]', degree=1)"
   ]
  },
  {
   "cell_type": "code",
   "execution_count": null,
   "metadata": {},
   "outputs": [],
   "source": [
    "# 创建一个FunctionSpace\n",
    "V = FunctionSpace(mesh, 'CG', 1)\n",
    "\n",
    "# 定义一个测试函数\n",
    "phi = TestFunction(V)\n",
    "\n",
    "# 定义一个原始函数\n",
    "f = Expression('x[0]*x[0]*x[0] + x[1]*x[1]*x[1]', degree=1)\n",
    "f_visual = project(f, V)\n",
    "print(\"f_visual type:\", type(f_visual))\n",
    "plot(f_visual)\n",
    "\n",
    "# 首先通过项目获取表达式\n",
    "f_expr = f_visual.function_space().element().interpolate(f)\n",
    "\n",
    "# 创建一个Form对象，表示在单元域K上的积分!\n",
    "form = Form(f * phi * dx)\n",
    "# 打印Form对象的类型\n",
    "print(\"Form type:\", type(form))\n",
    "# 打印Form对象的内容\n",
    "print(\"Form:\", form)"
   ]
  },
  {
   "cell_type": "code",
   "execution_count": null,
   "metadata": {},
   "outputs": [],
   "source": [
    "# 获取 SpatialCoordinate\n",
    "x = SpatialCoordinate(mesh)\n",
    "\n",
    "# 计算 integrand 的导数\n",
    "integrand_derivative = diff(f_visual, x)\n",
    "\n",
    "# 重新构建 Form\n",
    "form_derivative = integrand_derivative * dx\n",
    "\n",
    "# 打印结果\n",
    "print(form_derivative)"
   ]
  },
  {
   "cell_type": "code",
   "execution_count": null,
   "metadata": {},
   "outputs": [],
   "source": [
    "from dolfin import *\n",
    "\n",
    "# 创建网格和函数空间\n",
    "mesh = UnitSquareMesh(16, 16)\n",
    "V = FunctionSpace(mesh, 'CG', 1)\n",
    "\n",
    "# 定义并初始化一个函数 f\n",
    "f = Function(V)\n",
    "f.interpolate(Expression('x[0]*x[0]*x[0] + x[1]*x[1]*x[1]', degree=1))\n",
    "\n",
    "# 计算 f 对 y 的偏导数 (即对 x[1] 的偏导数)\n",
    "df_dy = project(f.dx(1), V)\n",
    "\n",
    "# 可视化原始函数和偏导数\n",
    "import matplotlib.pyplot as plt\n",
    "\n",
    "plt.figure()\n",
    "# plot(f, title=\"Original function f\")\n",
    "\n",
    "plt.figure()\n",
    "plot(df_dy, title=\"Partial derivative of f with respect to y (x[1])\")\n",
    "\n",
    "plt.show()"
   ]
  },
  {
   "cell_type": "code",
   "execution_count": null,
   "metadata": {},
   "outputs": [],
   "source": [
    "import show_vector_with_pyvista as show\n",
    "\n",
    "# show.show_vector_with_pyvista(\"output/\")\n",
    "grid = show.show_vector_with_pyvista(\"output/theta_vector_adam.txt\")\n"
   ]
  },
  {
   "cell_type": "code",
   "execution_count": null,
   "metadata": {},
   "outputs": [],
   "source": [
    "import pyvista as pv\n",
    "streamlines = grid.streamlines('vectors', n_points=200, max_time=1.0)\n",
    "plotter = pv.Plotter()\n",
    "plotter.add_mesh(streamlines, color=\"red\")\n",
    "plotter.show()"
   ]
  },
  {
   "cell_type": "code",
   "execution_count": null,
   "metadata": {},
   "outputs": [],
   "source": [
    "import logging\n",
    "import sys\n",
    "logging.basicConfig(stream=sys.stderr,\n",
    "                    level=logging.DEBUG,\n",
    "                    format='%(asctime)s - %(levelname)s - %(message)s')\n",
    "\n",
    "logging.info(\"这是一个info\")\n",
    "logging.error(\"这是一个error\")\n",
    "logging.warning(\"这是一个warning\")\n",
    "logging.debug(\"这是一个debug信息\")"
   ]
  },
  {
   "cell_type": "code",
   "execution_count": null,
   "metadata": {},
   "outputs": [],
   "source": [
    "# import logging\n",
    "# import sys\n",
    "# import os\n",
    "\n",
    "# # 创建日志记录器\n",
    "# logger = logging.getLogger()\n",
    "# logger.setLevel(logging.INFO)\n",
    "\n",
    "# # 创建处理器 - 控制台输出\n",
    "# console_handler = logging.StreamHandler(sys.stdout)\n",
    "# console_handler.setLevel(logging.INFO)\n",
    "\n",
    "# # 创建处理器 - 文件输出\n",
    "# log_filename = 'output/custom_log.log'\n",
    "# os.makedirs(os.path.dirname(log_filename), exist_ok=True)  # 确保目录存在\n",
    "# file_handler = logging.FileHandler(log_filename)\n",
    "# file_handler.setLevel(logging.INFO)\n",
    "\n",
    "# # 正确的格式器\n",
    "# formatter = logging.Formatter('%(asctime)s - %(levelname)s - %(message)s')\n",
    "# console_handler.setFormatter(formatter)\n",
    "# file_handler.setFormatter(formatter)\n",
    "\n",
    "# # 将处理器添加到日志记录器\n",
    "# logger.addHandler(console_handler)\n",
    "# logger.addHandler(file_handler)\n",
    "\n",
    "# # 示例日志信息\n",
    "# logger.info(\"This is an info log message.\")\n",
    "# logger.error(\"This is an error log message.\")"
   ]
  },
  {
   "cell_type": "code",
   "execution_count": null,
   "metadata": {},
   "outputs": [],
   "source": [
    "import show_vector_with_pyvista as sv\n",
    "\n",
    "svf = sv.ShowVectorWithPyvista(\"output/theta_vector(adam).txt\")\n",
    "svf.show_vector_field()"
   ]
  },
  {
   "cell_type": "code",
   "execution_count": 1,
   "metadata": {},
   "outputs": [
    {
     "name": "stdout",
     "output_type": "stream",
     "text": [
      "你好\n"
     ]
    }
   ],
   "source": [
    "print(\"你好\")"
   ]
  }
 ],
 "metadata": {
  "kernelspec": {
   "display_name": "Python 3 (ipykernel)",
   "language": "python",
   "name": "python3"
  },
  "language_info": {
   "codemirror_mode": {
    "name": "ipython",
    "version": 3
   },
   "file_extension": ".py",
   "mimetype": "text/x-python",
   "name": "python",
   "nbconvert_exporter": "python",
   "pygments_lexer": "ipython3",
   "version": "3.12.3"
  }
 },
 "nbformat": 4,
 "nbformat_minor": 4
}
