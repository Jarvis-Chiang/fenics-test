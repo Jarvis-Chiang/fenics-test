{
 "cells": [
  {
   "cell_type": "code",
   "execution_count": null,
   "metadata": {},
   "outputs": [],
   "source": [
    "from dolfin import *"
   ]
  },
  {
   "cell_type": "code",
   "execution_count": 16,
   "metadata": {},
   "outputs": [],
   "source": [
    "# Create mesh\n",
    "mesh = UnitCubeMesh(8, 8, 8)\n",
    "# Create function space\n",
    "V = VectorFunctionSpace(mesh, \"Lagrange\", 2)\n"
   ]
  },
  {
   "cell_type": "code",
   "execution_count": null,
   "metadata": {},
   "outputs": [],
   "source": [
    "# Create function space\n",
    "V = VectorFunctionSpace(mesh, \"Lagrange\", 2)\n"
   ]
  },
  {
   "cell_type": "code",
   "execution_count": null,
   "metadata": {},
   "outputs": [],
   "source": [
    "# Create test and trial functions, and source term\n",
    "u, w = TrialFunction(V), TestFunction(V)\n",
    "b = Constant((1.0, 0.0, 0.0))"
   ]
  },
  {
   "cell_type": "code",
   "execution_count": null,
   "metadata": {},
   "outputs": [],
   "source": [
    "# Elasticity parameters\n",
    "E, nu = 10.0, 0.3\n",
    "mu, lmbda = E/(2.0*(1.0 + nu)), E*nu/((1.0 + nu)*(1.0 - 2.0*nu))"
   ]
  },
  {
   "cell_type": "code",
   "execution_count": null,
   "metadata": {},
   "outputs": [],
   "source": [
    "# Stress\n",
    "sigma = 2*mu*sym(grad(u)) + lmbda*tr(grad(u))*Identity(3)"
   ]
  },
  {
   "cell_type": "code",
   "execution_count": null,
   "metadata": {},
   "outputs": [],
   "source": [
    "# Governing balance equation\n",
    "F = inner(sigma, grad(w))*dx - dot(b, w)*dx"
   ]
  },
  {
   "cell_type": "code",
   "execution_count": null,
   "metadata": {},
   "outputs": [],
   "source": [
    "# Extract bilinear and linear forms from F\n",
    "a, L = lhs(F), rhs(F)\n"
   ]
  },
  {
   "cell_type": "code",
   "execution_count": null,
   "metadata": {},
   "outputs": [],
   "source": [
    "# Dirichlet boundary condition on entire boundary\n",
    "c = Constant((0.0, 0.0, 0.0))\n",
    "bc = DirichletBC(V, c, DomainBoundary())"
   ]
  },
  {
   "cell_type": "code",
   "execution_count": null,
   "metadata": {},
   "outputs": [],
   "source": [
    "# Set up PDE and solve\n",
    "u = Function(V)\n",
    "problem = LinearVariationalProblem(a, L, u, bcs=bc)\n",
    "solver = LinearVariationalSolver(problem)\n",
    "solver.parameters[\"symmetric\"] = True\n",
    "solver.solve()\n",
    "\n",
    "\n",
    "# xdmf = XDMFFile(\"output/u_sol.xdmf\")\n",
    "# plot(u)\n",
    "# plot(mesh)"
   ]
  },
  {
   "cell_type": "code",
   "execution_count": null,
   "metadata": {},
   "outputs": [],
   "source": []
  }
 ],
 "metadata": {
  "kernelspec": {
   "display_name": "fenics-top-workspace",
   "language": "python",
   "name": "python3"
  },
  "language_info": {
   "codemirror_mode": {
    "name": "ipython",
    "version": 3
   },
   "file_extension": ".py",
   "mimetype": "text/x-python",
   "name": "python",
   "nbconvert_exporter": "python",
   "pygments_lexer": "ipython3",
   "version": "3.12.3"
  }
 },
 "nbformat": 4,
 "nbformat_minor": 2
}
