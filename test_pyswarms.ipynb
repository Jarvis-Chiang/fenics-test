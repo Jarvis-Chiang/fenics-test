{
 "cells": [
  {
   "cell_type": "code",
   "execution_count": null,
   "metadata": {},
   "outputs": [],
   "source": [
    "import pyswarms as ps\n",
    "from pyswarms.utils.functions import single_obj as fx\n",
    "import numpy as np"
   ]
  },
  {
   "cell_type": "code",
   "execution_count": null,
   "metadata": {},
   "outputs": [],
   "source": [
    "# Set-up hyperparameters\n",
    "options = {'c1': 0.5, 'c2': 0.3, 'w':0.9}\n",
    "\n",
    "# Call instance of PSO\n",
    "optimizer = ps.single.GlobalBestPSO(n_particles=10, dimensions=2, options=options)\n",
    "\n",
    "# Perform optimization\n",
    "cost, pos = optimizer.optimize(fx.sphere, iters=1000)\n"
   ]
  },
  {
   "cell_type": "code",
   "execution_count": null,
   "metadata": {},
   "outputs": [],
   "source": [
    "# import modules\n",
    "import numpy as np\n",
    "\n",
    "# create a parameterized version of the classic Rosenbrock unconstrained optimzation function\n",
    "def rosenbrock_with_args(x, a, b, c=0):\n",
    "    f = (a - x[:, 0]) ** 2 + b * (x[:, 1] - x[:, 0] ** 2) ** 2 + c\n",
    "    return f\n",
    "\n",
    "from pyswarms.single.global_best import GlobalBestPSO\n",
    "\n",
    "# instatiate the optimizer\n",
    "x_max = 10 * np.ones(2)\n",
    "x_min = -1 * x_max\n",
    "bounds = (x_min, x_max)\n",
    "options = {'c1': 0.5, 'c2': 0.3, 'w': 0.9}\n",
    "optimizer = GlobalBestPSO(n_particles=10, dimensions=2, options=options, bounds=bounds)\n",
    "\n",
    "# now run the optimization, pass a=1 and b=100 as a tuple assigned to args\n",
    "\n",
    "cost, pos = optimizer.optimize(rosenbrock_with_args, 1000, a=1, b=100, c=0)"
   ]
  },
  {
   "cell_type": "code",
   "execution_count": null,
   "metadata": {},
   "outputs": [],
   "source": [
    "# import modules\n",
    "import numpy as np\n",
    "\n",
    "# create a parameterized version of the classic Rosenbrock unconstrained optimzation function\n",
    "# def rosenbrock_with_args(x, a, b, c=0):\n",
    "#     f = (a - x[:, 0]) ** 2 + b * (x[:, 1] - x[:, 0] ** 2) ** 2 + c\n",
    "#     return f\n",
    "def my_function(x):\n",
    "    f = x[:, 0] ** 2 + (x[:, 1] ) ** 2\n",
    "    return f\n",
    "\n",
    "from pyswarms.single.global_best import GlobalBestPSO\n",
    "\n",
    "# instatiate the optimizer\n",
    "x_max = 10 * np.ones(2)\n",
    "x_min = -1 * x_max\n",
    "bounds = (x_min, x_max)\n",
    "options = {'c1': 0.5, 'c2': 0.3, 'w': 0.9}\n",
    "optimizer = GlobalBestPSO(n_particles=10, dimensions=2, options=options, bounds=bounds)\n",
    "\n",
    "# now run the optimization, pass a=1 and b=100 as a tuple assigned to args\n",
    "\n",
    "cost, pos = optimizer.optimize(my_function, 1000)"
   ]
  },
  {
   "cell_type": "code",
   "execution_count": null,
   "metadata": {},
   "outputs": [],
   "source": [
    "import matplotlib.pyplot as plt\n",
    "import numpy as np\n",
    "from pyswarms.single.global_best import GlobalBestPSO\n",
    "from pyswarms.utils.plotters import (plot_cost_history, plot_contour, plot_surface)\n",
    "\n",
    "# 定义目标函数，返回每个粒子的适应度值\n",
    "def my_function(x):\n",
    "    # x 是一个二维数组，每行代表一个粒子的位置\n",
    "    f = np.sum(x**2, axis=1) / x.shape[0]\n",
    "    return f\n",
    "\n",
    "# 设置 PSO 的参数\n",
    "dimensions = 1000  # 变量的维度\n",
    "n_particles = 1000    # 粒子的数量\n",
    "\n",
    "x_max = 10 * np.ones(dimensions)\n",
    "x_min = -10 * np.ones(dimensions)\n",
    "bounds = (x_min, x_max)\n",
    "options = {'c1': 0.5, 'c2': 0.3, 'w': 0.9}\n",
    "\n",
    "# 实例化优化器\n",
    "optimizer = GlobalBestPSO(n_particles=n_particles, dimensions=dimensions, options=options, bounds=bounds)\n",
    "\n",
    "# 运行优化\n",
    "cost, pos = optimizer.optimize(my_function, iters=1000)\n",
    "\n",
    "plot_cost_history(cost_history=optimizer.cost_history, title=f\"Dimensions: {dimensions}, particles: {n_particles}, best cost: {cost}\")\n",
    "plt.show()\n",
    "\n",
    "print('最优成本值:', cost)\n",
    "print('最优位置:', pos)"
   ]
  },
  {
   "cell_type": "code",
   "execution_count": null,
   "metadata": {},
   "outputs": [],
   "source": [
    "import matplotlib.pyplot as plt\n",
    "import numpy as np\n",
    "from pyswarms.single.global_best import GlobalBestPSO\n",
    "from pyswarms.utils.plotters import (plot_cost_history, plot_contour, plot_surface)\n",
    "from pyswarms.utils.plotters.formatters import Mesher, Designer\n",
    "\n",
    "# 定义目标函数\n",
    "def my_function(x):\n",
    "    f = np.sum(x**2, axis=1)\n",
    "    return f\n",
    "\n",
    "# 设置PSO参数\n",
    "dimensions = 10000\n",
    "n_particles = 50\n",
    "x_max = 10 * np.ones(dimensions)\n",
    "x_min = -10 * np.ones(dimensions)\n",
    "bounds = (x_min, x_max)\n",
    "options = {'c1': 0.5, 'c2': 0.3, 'w': 0.9}\n",
    "\n",
    "# 实例化优化器\n",
    "optimizer = GlobalBestPSO(n_particles=n_particles, dimensions=dimensions, options=options, bounds=bounds)\n",
    "\n",
    "# 动态调整参数的函数\n",
    "def update_options(iteration, max_iters):\n",
    "    w = 0.9 - 0.7 * (iteration / max_iters)  # 惯性权重从0.9线性减小到0.2\n",
    "    c1 = 0.5 + 0.4 * (iteration / max_iters)  # c1从0.5线性增加到0.9\n",
    "    c2 = 0.3 + 0.5 * (iteration / max_iters)  # c2从0.3线性增加到0.8\n",
    "    return {'c1': c1, 'c2': c2, 'w': w}\n",
    "\n",
    "# 优化迭代次数\n",
    "max_iters = 1000\n",
    "\n",
    "# 运行优化\n",
    "for i in range(max_iters):\n",
    "    optimizer.options = update_options(i, max_iters)\n",
    "    cost, pos = optimizer.optimize(my_function, iters=1)\n",
    "\n",
    "# 可视化成本历史\n",
    "plot_cost_history(cost_history=optimizer.cost_history)\n",
    "plt.show()\n",
    "\n",
    "print('最优成本值:', cost)\n",
    "print('最优位置:', pos)"
   ]
  },
  {
   "cell_type": "code",
   "execution_count": null,
   "metadata": {},
   "outputs": [],
   "source": [
    "import matplotlib.pyplot as plt\n",
    "\n",
    "fig, ax = plt.subplots()\n",
    "\n",
    "# 设置箭头的起始和结束位置\n",
    "start = (0.2, 0.5)\n",
    "end = (0.8, 0.5)\n",
    "\n",
    "# 绘制双向箭头\n",
    "ax.annotate('', xy=end, xytext=start,\n",
    "            arrowprops=dict(arrowstyle='<->', lw=2))\n",
    "\n",
    "# 设置图形的限制\n",
    "ax.set_xlim(0, 1)\n",
    "ax.set_ylim(0, 1)\n",
    "\n",
    "# 显示图形\n",
    "plt.show()"
   ]
  },
  {
   "cell_type": "code",
   "execution_count": null,
   "metadata": {},
   "outputs": [],
   "source": [
    "import pyvista\n",
    "\n",
    "cells = [4, 0, 1, 2, 3]\n",
    "celltypes = [pyvista.CellType.TETRA]\n",
    "points = [\n",
    "    [1.0, 1.0, 1.0],\n",
    "    [1.0, -1.0, -1.0],\n",
    "    [-1.0, 1.0, -1.0],\n",
    "    [-1.0, -1.0, 1.0],\n",
    "]\n",
    "grid = pyvista.UnstructuredGrid(cells, celltypes, points)\n",
    "\n",
    "plotter = pyvista.Plotter(off_screen=True)  # 使用 off_screen 模式\n",
    "plotter.add_mesh(grid, show_edges=True, color='white')\n",
    "plotter.show()\n"
   ]
  },
  {
   "cell_type": "code",
   "execution_count": 1,
   "metadata": {},
   "outputs": [
    {
     "ename": "",
     "evalue": "",
     "output_type": "error",
     "traceback": [
      "\u001b[1;31m在当前单元格或上一个单元格中执行代码时 Kernel 崩溃。\n",
      "\u001b[1;31m请查看单元格中的代码，以确定故障的可能原因。\n",
      "\u001b[1;31m单击<a href='https://aka.ms/vscodeJupyterKernelCrash'>此处</a>了解详细信息。\n",
      "\u001b[1;31m有关更多详细信息，请查看 Jupyter <a href='command:jupyter.viewOutput'>log</a>。"
     ]
    }
   ],
   "source": [
    "from pyvirtualdisplay import Display\n",
    "display = Display(visible=0, size=(600, 400))\n",
    "display.start()\n",
    "# new cell\n",
    "import pyvista as pv\n",
    "sphere = pv.Sphere()\n",
    "# short example\n",
    "sphere.plot(notebook=True, window_size=(600,400))"
   ]
  }
 ],
 "metadata": {
  "kernelspec": {
   "display_name": "fenics-top-workspace",
   "language": "python",
   "name": "python3"
  },
  "language_info": {
   "codemirror_mode": {
    "name": "ipython",
    "version": 3
   },
   "file_extension": ".py",
   "mimetype": "text/x-python",
   "name": "python",
   "nbconvert_exporter": "python",
   "pygments_lexer": "ipython3",
   "version": "3.12.3"
  }
 },
 "nbformat": 4,
 "nbformat_minor": 2
}
