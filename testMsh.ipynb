{
 "cells": [
  {
   "cell_type": "code",
   "execution_count": null,
   "metadata": {},
   "outputs": [
    {
     "name": "stdout",
     "output_type": "stream",
     "text": [
      "\n"
     ]
    },
    {
     "data": {
      "text/html": [
       "<pre style=\"white-space:pre;overflow-x:auto;line-height:normal;font-family:Menlo,'DejaVu Sans Mono',consolas,'Courier New',monospace\"><span style=\"color: #808000; text-decoration-color: #808000; font-weight: bold\">Warning:</span><span style=\"color: #808000; text-decoration-color: #808000\"> DOLFIN XML is a legacy format. Consider using XDMF instead.</span>\n",
       "</pre>\n"
      ],
      "text/plain": [
       "\u001b[1;33mWarning:\u001b[0m\u001b[33m DOLFIN XML is a legacy format. Consider using XDMF instead.\u001b[0m\n"
      ]
     },
     "metadata": {},
     "output_type": "display_data"
    },
    {
     "name": "stdout",
     "output_type": "stream",
     "text": [
      "\n"
     ]
    },
    {
     "data": {
      "text/html": [
       "<pre style=\"white-space:pre;overflow-x:auto;line-height:normal;font-family:Menlo,'DejaVu Sans Mono',consolas,'Courier New',monospace\"><span style=\"color: #808000; text-decoration-color: #808000; font-weight: bold\">Warning:</span><span style=\"color: #808000; text-decoration-color: #808000\"> DOLFIN XML is a legacy format. Consider using XDMF instead.</span>\n",
       "</pre>\n"
      ],
      "text/plain": [
       "\u001b[1;33mWarning:\u001b[0m\u001b[33m DOLFIN XML is a legacy format. Consider using XDMF instead.\u001b[0m\n"
      ]
     },
     "metadata": {},
     "output_type": "display_data"
    },
    {
     "name": "stdout",
     "output_type": "stream",
     "text": [
      "2D网格:\n",
      "维度: 3\n",
      "单元数量: 2\n",
      "顶点数量: 4\n",
      "\n",
      "3D网格:\n",
      "维度: 3\n",
      "单元数量: 6\n",
      "顶点数量: 8\n"
     ]
    }
   ],
   "source": [
    "from dolfin import *\n",
    "import matplotlib.pyplot as plt\n",
    "import meshio\n",
    "\n",
    "# 转换2D网格\n",
    "mesh_2d = meshio.read(\"testMesh/2d_mesh.msh\")\n",
    "meshio.write(\"testMesh/2d_mesh.xml\", mesh_2d)\n",
    "\n",
    "# 转换3D网格\n",
    "mesh_3d = meshio.read(\"testMesh/3d_mesh.msh\")\n",
    "meshio.write(\"testMesh/3d_mesh.xml\", mesh_3d)\n",
    "\n",
    "# 使用DOLFIN读取转换后的XML文件\n",
    "mesh_2d = Mesh(\"testMesh/2d_mesh.xml\")\n",
    "mesh_3d = Mesh(\"testMesh/3d_mesh.xml\")\n",
    "\n",
    "# 打印网格信息\n",
    "print(\"2D网格:\")\n",
    "print(f\"维度: {mesh_2d.geometric_dimension()}\")\n",
    "print(f\"单元数量: {mesh_2d.num_cells()}\")\n",
    "print(f\"顶点数量: {mesh_2d.num_vertices()}\")\n",
    "\n",
    "print(\"\\n3D网格:\")\n",
    "print(f\"维度: {mesh_3d.geometric_dimension()}\")\n",
    "print(f\"单元数量: {mesh_3d.num_cells()}\")\n",
    "print(f\"顶点数量: {mesh_3d.num_vertices()}\")\n"
   ]
  },
  {
   "cell_type": "code",
   "execution_count": null,
   "metadata": {},
   "outputs": [
    {
     "data": {
      "application/vnd.jupyter.widget-view+json": {
       "model_id": "a4150155b88d4a679c5e107c8f5526ec",
       "version_major": 2,
       "version_minor": 0
      },
      "text/plain": [
       "Widget(value='<iframe src=\"http://localhost:46849/index.html?ui=P_0x7f5fc6e4e060_0&reconnect=auto\" class=\"pyvi…"
      ]
     },
     "metadata": {},
     "output_type": "display_data"
    },
    {
     "data": {
      "application/vnd.jupyter.widget-view+json": {
       "model_id": "2c922a2e509d4d2bab23216c4862869c",
       "version_major": 2,
       "version_minor": 0
      },
      "text/plain": [
       "Widget(value='<iframe src=\"http://localhost:46849/index.html?ui=P_0x7f5fbd8db950_1&reconnect=auto\" class=\"pyvi…"
      ]
     },
     "metadata": {},
     "output_type": "display_data"
    },
    {
     "ename": "NameError",
     "evalue": "name 'plotter' is not defined",
     "output_type": "error",
     "traceback": [
      "\u001b[0;31m---------------------------------------------------------------------------\u001b[0m",
      "\u001b[0;31mNameError\u001b[0m                                 Traceback (most recent call last)",
      "Cell \u001b[0;32mIn[2], line 25\u001b[0m\n\u001b[1;32m     22\u001b[0m plotter_3d\u001b[38;5;241m.\u001b[39mshow()\n\u001b[1;32m     24\u001b[0m \u001b[38;5;66;03m# 显示图形\u001b[39;00m\n\u001b[0;32m---> 25\u001b[0m \u001b[43mplotter\u001b[49m\u001b[38;5;241m.\u001b[39mshow()\n",
      "\u001b[0;31mNameError\u001b[0m: name 'plotter' is not defined"
     ]
    }
   ],
   "source": [
    "import pyvista as pv\n",
    "\n",
    "# 创建2D网格的pyvista对象\n",
    "mesh_2d_pv = pv.UnstructuredGrid(\"testMesh/2d_mesh.xml\")\n",
    "\n",
    "# 创建3D网格的pyvista对象\n",
    "mesh_3d_pv = pv.UnstructuredGrid(\"testMesh/3d_mesh.xml\")\n",
    "\n",
    "# 创建2D网格的plotter\n",
    "plotter_2d = pv.Plotter()\n",
    "plotter_2d.add_mesh(mesh_2d_pv, show_edges=True, color='tan')\n",
    "plotter_2d.view_xy()\n",
    "plotter_2d.add_text(\"2D网格\", position='upper_left')\n",
    "plotter_2d.add_title(\"2D网格可视化\", font_size=20)\n",
    "plotter_2d.show()\n",
    "\n",
    "# 创建3D网格的plotter\n",
    "plotter_3d = pv.Plotter()\n",
    "plotter_3d.add_mesh(mesh_3d_pv, show_edges=True, color='lightblue')\n",
    "plotter_3d.add_text(\"3D网格\", position='upper_left')\n",
    "plotter_3d.add_title(\"3D网格可视化\", font_size=20)\n",
    "plotter_3d.show()\n",
    "\n",
    "# 显示图形\n",
    "# plotter.show()\n"
   ]
  },
  {
   "cell_type": "code",
   "execution_count": null,
   "metadata": {},
   "outputs": [],
   "source": []
  }
 ],
 "metadata": {
  "kernelspec": {
   "display_name": "fenics-top-workspace",
   "language": "python",
   "name": "python3"
  },
  "language_info": {
   "codemirror_mode": {
    "name": "ipython",
    "version": 3
   },
   "file_extension": ".py",
   "mimetype": "text/x-python",
   "name": "python",
   "nbconvert_exporter": "python",
   "pygments_lexer": "ipython3",
   "version": "3.12.3"
  }
 },
 "nbformat": 4,
 "nbformat_minor": 2
}
