{
 "cells": [
  {
   "cell_type": "code",
   "execution_count": 27,
   "metadata": {},
   "outputs": [
    {
     "name": "stdout",
     "output_type": "stream",
     "text": [
      "Grid Count: 1730\n",
      "Vertex Count: 947\n",
      "Vector Field Count: 947\n"
     ]
    },
    {
     "name": "stderr",
     "output_type": "stream",
     "text": [
      "Generating Streamlines: 100%|██████████[00:00<00:00]\n"
     ]
    },
    {
     "data": {
      "application/vnd.jupyter.widget-view+json": {
       "model_id": "c28e5761bf3340919e2b38ca319fc747",
       "version_major": 2,
       "version_minor": 0
      },
      "text/plain": [
       "Widget(value='<iframe src=\"http://localhost:39311/index.html?ui=P_0x7f47c1484920_19&reconnect=auto\" class=\"pyv…"
      ]
     },
     "metadata": {},
     "output_type": "display_data"
    }
   ],
   "source": [
    "import show_vector_with_pyvista as swp\n",
    "import numpy as np\n",
    "sw = swp.ShowWithPyvista('output/history/L_shape_theta_vector(adam).txt')\n",
    "print(sw)\n",
    "sw.add_grid()\n",
    "# sw.add_vector_field(mag=0.25)\n",
    "# sw.add_grid()\n",
    "# 创建从 (0, 0, 0) 到 (0, 6, 0) 之间的起始点\n",
    "# start_points = np.array([[0, y, 0] for y in np.linspace(0, 6, num=50)])\n",
    "n_points = 200\n",
    "start_points = np.zeros((n_points, 3))\n",
    "start_points[:, 0] = np.random.uniform(0, 9, n_points)\n",
    "start_points[:, 1] = np.random.uniform(0, 9, n_points)\n",
    "start_points[:, 2] = np.random.uniform(0, 0, n_points)\n",
    "# print(start_points)\n",
    "\n",
    "sw.add_streamlines(start_points=start_points)\n",
    "sw.show()\n",
    "\n"
   ]
  },
  {
   "cell_type": "code",
   "execution_count": 28,
   "metadata": {},
   "outputs": [
    {
     "name": "stdout",
     "output_type": "stream",
     "text": [
      "[[45.]\n",
      " [45.]\n",
      " [45.]\n",
      " [45.]\n",
      " [45.]\n",
      " [45.]\n",
      " [45.]\n",
      " [45.]\n",
      " [45.]\n",
      " [45.]\n",
      " [45.]\n",
      " [45.]\n",
      " [45.]\n",
      " [45.]\n",
      " [45.]]\n"
     ]
    }
   ],
   "source": [
    "x = 45 * np.ones((15,1))\n",
    "print(x)"
   ]
  },
  {
   "cell_type": "code",
   "execution_count": null,
   "metadata": {},
   "outputs": [],
   "source": []
  }
 ],
 "metadata": {
  "kernelspec": {
   "display_name": "fenics-top-workspace",
   "language": "python",
   "name": "python3"
  },
  "language_info": {
   "codemirror_mode": {
    "name": "ipython",
    "version": 3
   },
   "file_extension": ".py",
   "mimetype": "text/x-python",
   "name": "python",
   "nbconvert_exporter": "python",
   "pygments_lexer": "ipython3",
   "version": "3.12.3"
  }
 },
 "nbformat": 4,
 "nbformat_minor": 2
}
