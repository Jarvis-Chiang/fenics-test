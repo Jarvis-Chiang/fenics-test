{
 "cells": [
  {
   "cell_type": "code",
   "execution_count": 1,
   "metadata": {},
   "outputs": [],
   "source": [
    "from dolfin import *\n",
    "import numpy as np"
   ]
  },
  {
   "cell_type": "code",
   "execution_count": 2,
   "metadata": {},
   "outputs": [],
   "source": [
    "# 参数准备\n",
    "nelx, nely = 10, 10\n",
    "# 二维正交各向异性\n",
    "E1, E2, mu12, G12 = 130000, 7700, 0.33, 4800\n",
    "# 转动角度\n",
    "Theta = 0\n",
    "Theta_init = 5\n",
    "# 载荷\n",
    "forcing = Constant((0, -500))"
   ]
  },
  {
   "cell_type": "code",
   "execution_count": 3,
   "metadata": {},
   "outputs": [],
   "source": [
    "# 弹性张量\n",
    "C2D_Iso = np.array([\n",
    "    [E1/(1-mu12**2),        mu12*E2/(1-mu12**2),         0  ],\n",
    "    [mu12*E2/(1-mu12**2),   E2/(1-mu12**2),              0  ],\n",
    "    [0,                     0,                           G12]\n",
    "])\n",
    "\n",
    "\n",
    "\n",
    "# 转轴公式\n",
    "def T2D_inv(theta):\n",
    "    theta = theta * np.pi / 180.0\n",
    "    c = cos(theta)\n",
    "    s = sin(theta)\n",
    "    Trans = np.array([\n",
    "        [c**2,  s**2,   -2*s*c],\n",
    "        [s**2,  c**2,   2*s*c],\n",
    "        [s*c,   -s*c,   c**2 - s**2]\n",
    "    ])\n",
    "    # Trans = np.array([\n",
    "    #     [np.cos(theta)**2, np.sin(theta)**2, -2*np.sin(theta)*np.cos(theta)],\n",
    "    #     [np.sin(theta)**2, np.cos(theta)**2, 2*np.sin(theta)*np.cos(theta)],\n",
    "    #     [np.sin(theta)*np.cos(theta), -np.sin(theta)*np.cos(theta), np.cos(theta)**2-np.sin(theta)**2]\n",
    "    # ])\n",
    "    return Trans"
   ]
  },
  {
   "cell_type": "code",
   "execution_count": 12,
   "metadata": {},
   "outputs": [
    {
     "name": "stdout",
     "output_type": "stream",
     "text": [
      "200\n"
     ]
    }
   ],
   "source": [
    "# 模型准备\n",
    "mesh = UnitSquareMesh(nelx, nely)\n",
    "V = VectorFunctionSpace(mesh, \"CG\", 1)\n",
    "T = FunctionSpace(mesh, \"DG\", 0)\n",
    "print(T.dim())\n",
    "u_sol = Function(V)\n",
    "Theta_sol = Function(T)\n",
    "# v = Function(T)\n",
    "# v.vector()[:] = 1\n",
    "u_trial = TrialFunction(V)\n",
    "v_test = TestFunction(V)\n"
   ]
  },
  {
   "cell_type": "code",
   "execution_count": 5,
   "metadata": {},
   "outputs": [],
   "source": [
    "# 物理方程\n",
    "def epsilon(u):\n",
    "    engineering_strain = 0.5 * (nabla_grad(u) + nabla_grad(u).T)\n",
    "    return engineering_strain\n",
    "\n",
    "# 本构方程\n",
    "def sigma_tensor(u, Theta_Ev):\n",
    "    # 计算应变张量\n",
    "    epsilon_ij = epsilon(u)\n",
    "    ep = as_vector([epsilon_ij[0,0], epsilon_ij[1,1], epsilon_ij[0,1]])\n",
    "    # 使用弹性系数计算应力张量\n",
    "    Q_bar = np.dot(np.dot(T2D_inv(Theta_Ev), C2D_Iso), T2D_inv(Theta_Ev).T)\n",
    "    sigma_ij = np.dot(Q_bar, ep)\n",
    "\n",
    "    return as_tensor([[sigma_ij[0], sigma_ij[2]],\n",
    "                      [sigma_ij[2], sigma_ij[1]]])\n",
    "\n",
    "# 弹性能密度\n",
    "def psi(u, Theta):\n",
    "    return 0.5 * inner(sigma_tensor(u, Theta), epsilon(u))"
   ]
  },
  {
   "cell_type": "code",
   "execution_count": 6,
   "metadata": {},
   "outputs": [],
   "source": [
    "# 边界定义\n",
    "# 狄利克雷边界\n",
    "def clamped_boundary(x, on_boundary):\n",
    "    return on_boundary and x[0] < DOLFIN_EPS\n",
    "\n",
    "bc = DirichletBC(V, Constant((0.0, 0.0)), clamped_boundary)\n",
    "\n",
    "# 自然边界\n",
    "class RightEnd(SubDomain):\n",
    "    def inside(self, x, on_boundary):\n",
    "        return on_boundary and abs(x[0] - 1) < DOLFIN_EPS and (abs(x[1] - 0.5) < 0.5)\n",
    "right_end_boundary = RightEnd()\n",
    "\n",
    "class TopEnd(SubDomain):\n",
    "    def inside(self, x, on_boundary):\n",
    "        return on_boundary and abs(x[0] - 0.5) < 0.1 and (abs(x[1] - 1) < DOLFIN_EPS)\n",
    "top_end_boundary = TopEnd()\n",
    "\n",
    "boundary_mark = MeshFunction(\"size_t\", mesh, mesh.topology().dim()-1)\n",
    "boundary_mark.set_all(0)\n",
    "right_end_boundary.mark(boundary_mark, 1)\n",
    "top_end_boundary.mark(boundary_mark, 2)"
   ]
  },
  {
   "cell_type": "code",
   "execution_count": 7,
   "metadata": {},
   "outputs": [],
   "source": [
    "lhs = inner(sigma_tensor(u_trial, Theta_sol), nabla_grad(v_test)) * dx\n",
    "rhs = dot(forcing, v_test) * ds(subdomain_data=boundary_mark, domain=mesh, subdomain_id=1)"
   ]
  },
  {
   "cell_type": "code",
   "execution_count": 8,
   "metadata": {},
   "outputs": [],
   "source": [
    "# 有限元求解\n",
    "def FEA(V:VectorFunctionSpace, lhs, rhs, u:Function, bc:DirichletBC) -> Function: \n",
    "    problem = LinearVariationalProblem(lhs, rhs, u, bc)\n",
    "    solver = LinearVariationalSolver(problem)\n",
    "    return solver.solve()\n"
   ]
  },
  {
   "cell_type": "code",
   "execution_count": 11,
   "metadata": {},
   "outputs": [],
   "source": [
    "# 敏度计算\n",
    "def compute_sensetivity(u, Theta):\n",
    "    W = 0.5 * inner(sigma_tensor(u, Theta), epsilon(u)) * dx\n",
    "    J = assemble(W)\n",
    "    dJ_dTheta = derivative(Constant(J), Theta)\n",
    "\n",
    "    # 将敏度信息组装成向量\n",
    "    dJ_dTheta_vec = assemble(dJ_dTheta)\n",
    "    return dJ_dTheta_vec"
   ]
  },
  {
   "cell_type": "code",
   "execution_count": 10,
   "metadata": {},
   "outputs": [
    {
     "name": "stdout",
     "output_type": "stream",
     "text": [
      "Solving linear variational problem.\n",
      "Iteration 0, Total Energy: 37.69951215722479\n"
     ]
    },
    {
     "ename": "AttributeError",
     "evalue": "'float' object has no attribute 'arguments'",
     "output_type": "error",
     "traceback": [
      "\u001b[0;31m---------------------------------------------------------------------------\u001b[0m",
      "\u001b[0;31mAttributeError\u001b[0m                            Traceback (most recent call last)",
      "Cell \u001b[0;32mIn[10], line 34\u001b[0m\n\u001b[1;32m     28\u001b[0m dJ_dTheta \u001b[38;5;241m=\u001b[39m  (J, Theta_sol)\n\u001b[1;32m     30\u001b[0m \u001b[38;5;66;03m# # 将导数投影到函数空间 T 中\u001b[39;00m\n\u001b[1;32m     31\u001b[0m \u001b[38;5;66;03m# # dpsi_dTheta = project(dJ_dTheta, T)\u001b[39;00m\n\u001b[1;32m     32\u001b[0m \u001b[38;5;66;03m# dJ_dTheta_vec = assemble(dJ_dTheta)\u001b[39;00m\n\u001b[1;32m     33\u001b[0m \u001b[38;5;66;03m# # print(type(dJ_dTheta_vec))\u001b[39;00m\n\u001b[0;32m---> 34\u001b[0m sensitivity \u001b[38;5;241m=\u001b[39m \u001b[43mcompute_sensetivity\u001b[49m\u001b[43m(\u001b[49m\u001b[43mu_sol\u001b[49m\u001b[43m,\u001b[49m\u001b[43m \u001b[49m\u001b[43mTheta\u001b[49m\u001b[43m)\u001b[49m\n\u001b[1;32m     36\u001b[0m \u001b[38;5;66;03m# 将 Vector 对象转换为 numpy 数组\u001b[39;00m\n\u001b[1;32m     37\u001b[0m m_np \u001b[38;5;241m=\u001b[39m m\u001b[38;5;241m.\u001b[39mvector()\u001b[38;5;241m.\u001b[39mget_local()\n",
      "Cell \u001b[0;32mIn[9], line 5\u001b[0m, in \u001b[0;36mcompute_sensetivity\u001b[0;34m(u, Theta)\u001b[0m\n\u001b[1;32m      3\u001b[0m W \u001b[38;5;241m=\u001b[39m \u001b[38;5;241m0.5\u001b[39m \u001b[38;5;241m*\u001b[39m inner(sigma_tensor(u, Theta), epsilon(u)) \u001b[38;5;241m*\u001b[39m dx\n\u001b[1;32m      4\u001b[0m J \u001b[38;5;241m=\u001b[39m assemble(W)\n\u001b[0;32m----> 5\u001b[0m dJ_dTheta \u001b[38;5;241m=\u001b[39m \u001b[43mderivative\u001b[49m\u001b[43m(\u001b[49m\u001b[43mJ\u001b[49m\u001b[43m,\u001b[49m\u001b[43m \u001b[49m\u001b[43mTheta\u001b[49m\u001b[43m)\u001b[49m\n\u001b[1;32m      7\u001b[0m \u001b[38;5;66;03m# 将敏度信息组装成向量\u001b[39;00m\n\u001b[1;32m      8\u001b[0m dJ_dTheta_vec \u001b[38;5;241m=\u001b[39m assemble(dJ_dTheta)\n",
      "File \u001b[0;32m~/anaconda3/envs/fenics-top-workspace/lib/python3.12/site-packages/dolfin/fem/formmanipulations.py:61\u001b[0m, in \u001b[0;36mderivative\u001b[0;34m(form, u, du, coefficient_derivatives)\u001b[0m\n\u001b[1;32m     57\u001b[0m \u001b[38;5;28;01mdef\u001b[39;00m \u001b[38;5;21mderivative\u001b[39m(form, u, du\u001b[38;5;241m=\u001b[39m\u001b[38;5;28;01mNone\u001b[39;00m, coefficient_derivatives\u001b[38;5;241m=\u001b[39m\u001b[38;5;28;01mNone\u001b[39;00m):\n\u001b[1;32m     58\u001b[0m     \u001b[38;5;28;01mif\u001b[39;00m du \u001b[38;5;129;01mis\u001b[39;00m \u001b[38;5;28;01mNone\u001b[39;00m:\n\u001b[1;32m     59\u001b[0m         \u001b[38;5;66;03m# Get existing arguments from form and position the new one\u001b[39;00m\n\u001b[1;32m     60\u001b[0m         \u001b[38;5;66;03m# with the next argument number\u001b[39;00m\n\u001b[0;32m---> 61\u001b[0m         form_arguments \u001b[38;5;241m=\u001b[39m \u001b[43mform\u001b[49m\u001b[38;5;241;43m.\u001b[39;49m\u001b[43marguments\u001b[49m()\n\u001b[1;32m     63\u001b[0m         number \u001b[38;5;241m=\u001b[39m \u001b[38;5;28mmax\u001b[39m([\u001b[38;5;241m-\u001b[39m\u001b[38;5;241m1\u001b[39m] \u001b[38;5;241m+\u001b[39m [arg\u001b[38;5;241m.\u001b[39mnumber() \u001b[38;5;28;01mfor\u001b[39;00m arg \u001b[38;5;129;01min\u001b[39;00m form_arguments]) \u001b[38;5;241m+\u001b[39m \u001b[38;5;241m1\u001b[39m\n\u001b[1;32m     65\u001b[0m         \u001b[38;5;28;01mif\u001b[39;00m \u001b[38;5;28many\u001b[39m(arg\u001b[38;5;241m.\u001b[39mpart() \u001b[38;5;129;01mis\u001b[39;00m \u001b[38;5;129;01mnot\u001b[39;00m \u001b[38;5;28;01mNone\u001b[39;00m \u001b[38;5;28;01mfor\u001b[39;00m arg \u001b[38;5;129;01min\u001b[39;00m form_arguments):\n",
      "\u001b[0;31mAttributeError\u001b[0m: 'float' object has no attribute 'arguments'"
     ]
    }
   ],
   "source": [
    "if __name__ == \"__main__\":\n",
    "    # Adam 优化参数\n",
    "    learning_rate = 0.01\n",
    "    beta1 = 0.9\n",
    "    beta2 = 0.999\n",
    "    epsilon_adam = 1e-8\n",
    "    max_iter = 10000\n",
    "    tol = 1e-6\n",
    "\n",
    "    Theta_sol.assign(interpolate(Constant(Theta_init), T))\n",
    "    m = Function(T)\n",
    "    v = Function(T)\n",
    "    m.vector()[:] = 0.0\n",
    "    v.vector()[:] = 0.0\n",
    "\n",
    "    for i in range(max_iter):\n",
    "        FEA(V, lhs, rhs, u_sol, bc)\n",
    "        W = FunctionSpace(mesh, \"DG\", 0)\n",
    "        psi_re = project(psi(u_sol, Theta_sol), W)\n",
    "        total_energy = assemble(psi_re * dx)\n",
    "\n",
    "        print(f\"Iteration {i}, Total Energy: {total_energy}\")\n",
    "\n",
    "        # 计算目标函数 J\n",
    "        J = psi(u_sol, Theta_sol) * dx\n",
    "        \n",
    "        # 计算目标函数对 Theta 的导数\n",
    "        dJ_dTheta =  (J, Theta_sol)\n",
    "        \n",
    "        # # 将导数投影到函数空间 T 中\n",
    "        # # dpsi_dTheta = project(dJ_dTheta, T)\n",
    "        # dJ_dTheta_vec = assemble(dJ_dTheta)\n",
    "        # # print(type(dJ_dTheta_vec))\n",
    "        sensitivity = compute_sensetivity(u_sol, Theta)\n",
    "        \n",
    "        # 将 Vector 对象转换为 numpy 数组\n",
    "        m_np = m.vector().get_local()\n",
    "        v_np = v.vector().get_local()\n",
    "        dJ_dTheta_np = dJ_dTheta_vec.get_local()\n",
    "\n",
    "        # Adam 优化步骤\n",
    "        m.vector()[:] = beta1 * m.vector()[:] + (1 - beta1) * dJ_dTheta_np\n",
    "        v.vector()[:] = beta2 * v.vector()[:] + (1 - beta2) * (dJ_dTheta_np ** 2)\n",
    "        m_hat = m.vector()[:] / (1 - beta1 ** (i + 1))\n",
    "        v_hat = v.vector()[:] / (1 - beta2 ** (i + 1))\n",
    "        \n",
    "        update = learning_rate * m_hat / (np.sqrt(v_hat) + epsilon_adam)\n",
    "        \n",
    "        # 创建一个用于更新的 GenericVector\n",
    "        update_vec = Function(T)\n",
    "        update_vec.vector()[:] = update\n",
    "        \n",
    "        # 使用 axpy 方法更新 Theta_sol\n",
    "        Theta_sol.vector().axpy(-1.0, update_vec.vector())\n",
    "        \n",
    "        # 检查收敛\n",
    "        if np.linalg.norm(update) < tol:\n",
    "            break\n",
    "\n",
    "    print(Theta_sol.vector()[:])"
   ]
  },
  {
   "cell_type": "markdown",
   "metadata": {},
   "source": []
  },
  {
   "cell_type": "code",
   "execution_count": null,
   "metadata": {},
   "outputs": [],
   "source": [
    "# 绘制收敛曲线\n",
    "import matplotlib.pyplot as plt\n",
    "plt.figure()\n",
    "plt.plot(total_energy_list)\n",
    "plt.xlabel(\"Iteration\")\n",
    "plt.ylabel(\"Total Energy\")\n",
    "plt.title(\"Convergence of Total Energy\")\n",
    "plt.show()\n",
    "\n",
    "# 绘制结果\n",
    "plot(Theta_sol, title=\"Optimized Fiber Angle\")\n",
    "plot(u_sol, title=\"Displacement Field\")\n",
    "plot(psi_re, title=\"Strain Energy Density\")\n",
    "plt.show()"
   ]
  }
 ],
 "metadata": {
  "kernelspec": {
   "display_name": "fenics-top-workspace",
   "language": "python",
   "name": "python3"
  },
  "language_info": {
   "codemirror_mode": {
    "name": "ipython",
    "version": 3
   },
   "file_extension": ".py",
   "mimetype": "text/x-python",
   "name": "python",
   "nbconvert_exporter": "python",
   "pygments_lexer": "ipython3",
   "version": "3.12.3"
  }
 },
 "nbformat": 4,
 "nbformat_minor": 2
}
