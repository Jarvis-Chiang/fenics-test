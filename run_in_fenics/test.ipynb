{
 "cells": [
  {
   "cell_type": "code",
   "execution_count": 1,
   "metadata": {},
   "outputs": [],
   "source": [
    "# !pip3 install 'jupyterlab' 'pyvista[all]'\n",
    "# !pip3 install 'trame' 'ipywidgets'\n",
    "# !conda list trame\n",
    "# !conda list ipywidgets\n"
   ]
  },
  {
   "cell_type": "code",
   "execution_count": 2,
   "metadata": {},
   "outputs": [
    {
     "data": {
      "text/plain": [
       "<pyvirtualdisplay.display.Display at 0x7fa5513b7ad0>"
      ]
     },
     "execution_count": 2,
     "metadata": {},
     "output_type": "execute_result"
    },
    {
     "ename": "",
     "evalue": "",
     "output_type": "error",
     "traceback": [
      "\u001b[1;31m在当前单元格或上一个单元格中执行代码时 Kernel 崩溃。\n",
      "\u001b[1;31m请查看单元格中的代码，以确定故障的可能原因。\n",
      "\u001b[1;31m单击<a href='https://aka.ms/vscodeJupyterKernelCrash'>此处</a>了解详细信息。\n",
      "\u001b[1;31m有关更多详细信息，请查看 Jupyter <a href='command:jupyter.viewOutput'>log</a>。"
     ]
    }
   ],
   "source": [
    "from pyvirtualdisplay import Display\n",
    "display = Display()\n",
    "display.start()\n"
   ]
  },
  {
   "cell_type": "code",
   "execution_count": 3,
   "metadata": {},
   "outputs": [
    {
     "name": "stderr",
     "output_type": "stream",
     "text": [
      "ERROR:root:Cannot create GLX context.  Aborting.\n",
      "\u001b[0m\u001b[31m2024-07-29 17:43:29.251 (   0.627s) [    7FA5656BD740]vtkXOpenGLRenderWindow.:651    ERR| vtkXOpenGLRenderWindow (0x556c61a58110): Cannot create GLX context.  Aborting.\u001b[0m\n"
     ]
    }
   ],
   "source": [
    "import pyvista as pv\n",
    "\n",
    "shpere = pv.Sphere()\n",
    "shpere.plot()"
   ]
  }
 ],
 "metadata": {
  "kernelspec": {
   "display_name": "python3.7-fenics",
   "language": "python",
   "name": "python3"
  },
  "language_info": {
   "codemirror_mode": {
    "name": "ipython",
    "version": 3
   },
   "file_extension": ".py",
   "mimetype": "text/x-python",
   "name": "python",
   "nbconvert_exporter": "python",
   "pygments_lexer": "ipython3",
   "version": "3.12.3"
  }
 },
 "nbformat": 4,
 "nbformat_minor": 2
}
