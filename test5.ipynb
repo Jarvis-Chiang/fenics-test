{
 "cells": [
  {
   "cell_type": "code",
   "execution_count": null,
   "metadata": {},
   "outputs": [],
   "source": [
    "import show_vector_with_pyvista as swp\n",
    "import numpy as np\n",
    "sw = swp.ShowWithPyvista('output/theta_vector(adam).txt')\n",
    "print(sw)\n",
    "sw.add_grid()\n",
    "sw.add_vector_field(mag=0.25)\n",
    "# sw.add_grid()\n",
    "# 创建从 (0, 0, 0) 到 (0, 6, 0) 之间的起始点\n",
    "# start_points = np.array([[0, y, 0] for y in np.linspace(0, 6, num=50)])\n",
    "n_points = 100\n",
    "start_points = np.zeros((n_points, 3))\n",
    "start_points[:, 0] = np.random.uniform(0, 9, n_points)\n",
    "start_points[:, 1] = np.random.uniform(0, 6, n_points)\n",
    "start_points[:, 2] = np.random.uniform(0, 0, n_points)\n",
    "# print(start_points)\n",
    "\n",
    "sw.add_streamlines(start_points=start_points)\n",
    "# sw.show()\n"
   ]
  }
 ],
 "metadata": {
  "kernelspec": {
   "display_name": "fenics-top-workspace",
   "language": "python",
   "name": "python3"
  },
  "language_info": {
   "codemirror_mode": {
    "name": "ipython",
    "version": 3
   },
   "file_extension": ".py",
   "mimetype": "text/x-python",
   "name": "python",
   "nbconvert_exporter": "python",
   "pygments_lexer": "ipython3",
   "version": "3.12.3"
  }
 },
 "nbformat": 4,
 "nbformat_minor": 2
}
