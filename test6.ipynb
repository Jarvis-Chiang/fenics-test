{
 "cells": [
  {
   "cell_type": "code",
   "execution_count": 21,
   "metadata": {},
   "outputs": [
    {
     "name": "stdout",
     "output_type": "stream",
     "text": [
      "你好Jarvis!很高兴认识你。我是一个由Anthropic公司开发的人工智能助手,名叫Claude。我的目标是成为一个有帮助的对话伙伴,协助人类完成各种任务。有什么我可以帮到你的吗?\n"
     ]
    }
   ],
   "source": [
    "import requests\n",
    "import json\n",
    "\n",
    "url = \"https://api.key77qiqi.cn/v1/chat/completions\"\n",
    "headers = {\n",
    "    \"Content-Type\": \"application/json\",\n",
    "    \"Authorization\": f\"Bearer sk-4K8quhoiFEmBR5c96dC6Ec35152f43D29a3fD8769e717a04\"\n",
    "}\n",
    "data = {\n",
    "    \"model\": \"claude-3-5-sonnet-20240620\",\n",
    "    \"stream\": False,\n",
    "    \"messages\": [\n",
    "        {\"role\": \"system\", \"content\": \"You are a helpful assistant.我叫jarvis，你是哪个公司开发的\"},\n",
    "        {\"role\": \"user\", \"content\": \"Hello!\"}\n",
    "    ]\n",
    "}\n",
    "\n",
    "response = requests.post(url, headers=headers, json=data)\n",
    "\n",
    "if response.status_code == 200:\n",
    "    if False:\n",
    "        for line in response.iter_lines():\n",
    "            if line:\n",
    "                chunk = json.loads(line.decode('utf-8'))\n",
    "                if chunk['choices'][0].get('delta', {}).get('content'):\n",
    "                    print(chunk['choices'][0]['delta']['content'], end='')\n",
    "    else:\n",
    "        print(response.json()['choices'][0]['message']['content'])\n",
    "else:\n",
    "    print(f\"Error: {response.status_code}, {response.text}\")"
   ]
  }
 ],
 "metadata": {
  "kernelspec": {
   "display_name": "fenics-top-workspace",
   "language": "python",
   "name": "python3"
  },
  "language_info": {
   "codemirror_mode": {
    "name": "ipython",
    "version": 3
   },
   "file_extension": ".py",
   "mimetype": "text/x-python",
   "name": "python",
   "nbconvert_exporter": "python",
   "pygments_lexer": "ipython3",
   "version": "3.12.3"
  }
 },
 "nbformat": 4,
 "nbformat_minor": 2
}
