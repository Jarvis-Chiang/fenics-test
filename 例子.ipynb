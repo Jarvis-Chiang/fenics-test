{
 "cells": [
  {
   "cell_type": "code",
   "execution_count": 10,
   "metadata": {},
   "outputs": [],
   "source": [
    "from dolfinx import default_scalar_type\n",
    "from dolfinx.fem import (Constant, dirichletbc, Function, functionspace, assemble_scalar,\n",
    "                         form, locate_dofs_geometrical, locate_dofs_topological)\n",
    "from dolfinx.fem.petsc import LinearProblem\n",
    "from dolfinx.io import XDMFFile, gmshio\n",
    "from dolfinx.mesh import create_unit_square, locate_entities, locate_entities_boundary\n",
    "from dolfinx.plot import vtk_mesh\n",
    "\n",
    "import ufl\n",
    "from ufl import (SpatialCoordinate, TestFunction, TrialFunction,\n",
    "                 dx, grad, inner)\n",
    "\n",
    "from mpi4py import MPI\n",
    "\n",
    "import meshio\n",
    "# import gmsh\n",
    "import numpy as np\n",
    "import pyvista\n",
    "\n",
    "pyvista.start_xvfb()"
   ]
  },
  {
   "cell_type": "code",
   "execution_count": 11,
   "metadata": {},
   "outputs": [],
   "source": [
    "# 材料应力应变\n",
    "E, nu = 1.0, 1.0 / 3.0\n",
    "\n",
    "def strain(u):\n",
    "    return 1.0/2.0*(ufl.grad(u) + ufl.grad(u).T)\n",
    "\n",
    "def sigma(u):\n",
    "    return E / (1.0 - nu**2) * ((1.0 - nu) * strain(u) + nu * ufl.Identity(2) * ufl.tr(strain(u)))"
   ]
  },
  {
   "cell_type": "code",
   "execution_count": 12,
   "metadata": {},
   "outputs": [],
   "source": [
    "# 10x10单位正方形，节点数量11x11\n",
    "mesh = create_unit_square(MPI.COMM_WORLD, 10, 10)\n",
    "V = functionspace(mesh, ('Lagrange', 1))\n",
    "u = TrialFunction(V)\n",
    "v = TestFunction(V)"
   ]
  },
  {
   "cell_type": "code",
   "execution_count": 15,
   "metadata": {},
   "outputs": [
    {
     "name": "stdout",
     "output_type": "stream",
     "text": [
      "(10,)\n"
     ]
    }
   ],
   "source": [
    "# 边界条件\n",
    "# 狄利克雷边界条件\n",
    "fdim = mesh.topology.dim - 1\n",
    "def dirichlet_(x):\n",
    "    return np.isclose(x[0], 0)\n",
    "\n",
    "\n",
    "# locate_entities_boundary返回ndarry，\n",
    "dirichelet_facet = locate_entities_boundary(mesh, fdim, dirichlet_)\n",
    "print(dirichelet_facet.shape)\n",
    "\n"
   ]
  }
 ],
 "metadata": {
  "kernelspec": {
   "display_name": "dolfinx-env",
   "language": "python",
   "name": "python3"
  },
  "language_info": {
   "codemirror_mode": {
    "name": "ipython",
    "version": 3
   },
   "file_extension": ".py",
   "mimetype": "text/x-python",
   "name": "python",
   "nbconvert_exporter": "python",
   "pygments_lexer": "ipython3",
   "version": "3.11.8"
  }
 },
 "nbformat": 4,
 "nbformat_minor": 2
}
