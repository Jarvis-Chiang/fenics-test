{
 "cells": [
  {
   "cell_type": "code",
   "execution_count": 96,
   "metadata": {},
   "outputs": [],
   "source": [
    "from dolfin import *\n",
    "length = 10\n",
    "width = 10\n",
    "height = 10\n",
    "\n",
    "f = Constant((0.0, 0.0, -10))\n",
    "xdmf = XDMFFile(\"output/density.xdmf\")\n",
    "\n",
    "# 材料弹性矩阵\n",
    "E = 210\n",
    "mu = 0.3\n",
    "Cons = E/(1+mu)/(1-2*mu)\n",
    "Cijkl = Cons*as_tensor([[1-mu, mu, mu, 0, 0, 0],\n",
    "                        [mu, 1-mu, mu, 0, 0, 0],\n",
    "                        [mu, mu, 1-mu, 0, 0, 0],\n",
    "                        [1, 0, 0, (1-2*mu)/2, 0, 0],\n",
    "                        [0, 0, 0, 0, (1-2*mu)/2, 0],\n",
    "                        [0, 0, 0, 0, 0, (1-2*mu)/2]])\n",
    "\n",
    "# 应变voigt法表示\n",
    "def strain3voigt(tensorStrain):\n",
    "    return as_vector([tensorStrain[0,0],\n",
    "                      tensorStrain[1,1],\n",
    "                      tensorStrain[2,2],\n",
    "                      2*tensorStrain[1,2],\n",
    "                      2*tensorStrain[2,0],\n",
    "                      2*tensorStrain[0,1]])\n",
    "\n",
    "# voigt应力tensor表示\n",
    "def stress3tensor(voigtVector):\n",
    "    return as_tensor([[voigtVector[0], voigtVector[5], voigtVector[4]],\n",
    "                      [voigtVector[5], voigtVector[1], voigtVector[3]],\n",
    "                      [voigtVector[4], voigtVector[3], voigtVector[2]]])\n",
    "\n",
    "# 材料应变\n",
    "def strain(u):\n",
    "    return 1.0/2.0*(grad(u) + grad(u).T)\n",
    "\n",
    "# 材料应力\n",
    "def stress(u):\n",
    "    return stress3tensor(\n",
    "        dot(Cijkl, strain3voigt(strain(u)))\n",
    "        )\n"
   ]
  },
  {
   "cell_type": "code",
   "execution_count": 97,
   "metadata": {},
   "outputs": [],
   "source": [
    "# 创建函数空间\n",
    "# mesh = UnitCubeMesh(1,2,3)\n",
    "mesh = BoxMesh(Point(0,0,0), Point(length, width, height), length, width, height)\n",
    "U = VectorFunctionSpace(mesh, \"CG\", 1)\n",
    "u = TrialFunction(U)\n",
    "v = TestFunction(U)\n",
    "\n",
    "res = inner(stress(u), grad(v)) * dx"
   ]
  },
  {
   "cell_type": "code",
   "execution_count": 99,
   "metadata": {},
   "outputs": [],
   "source": [
    "# 边界条件和载荷\n",
    "def clamp_boundary(x, on_boundary):\n",
    "    return on_boundary and x[1] < DOLFIN_EPS\n",
    "\n",
    "dirichletBC = DirichletBC(U,\n",
    "                          Constant([0.0,0.0,0.0]),\n",
    "                          clamp_boundary)\n",
    "L = Form(inner(f, v) * dx)\n",
    "a = Form(inner(stress(u), grad(v)) * dx)\n",
    "F = dot(v, f) * dx\n",
    "K = inner(stress(u), grad(v)) * dx\n",
    "\n",
    "u_solution = Function(U)\n",
    "\n",
    "solver = LinearVariationalSolver(LinearVariationalProblem(K, F, u_solution, dirichletBC))\n",
    "xdmf.write(u_solution, 1)"
   ]
  },
  {
   "cell_type": "code",
   "execution_count": null,
   "metadata": {},
   "outputs": [],
   "source": []
  }
 ],
 "metadata": {
  "kernelspec": {
   "display_name": "fenics-top-workspace",
   "language": "python",
   "name": "python3"
  },
  "language_info": {
   "codemirror_mode": {
    "name": "ipython",
    "version": 3
   },
   "file_extension": ".py",
   "mimetype": "text/x-python",
   "name": "python",
   "nbconvert_exporter": "python",
   "pygments_lexer": "ipython3",
   "version": "3.12.3"
  }
 },
 "nbformat": 4,
 "nbformat_minor": 2
}
