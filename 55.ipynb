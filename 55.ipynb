{
 "cells": [
  {
   "cell_type": "code",
   "execution_count": 62,
   "metadata": {},
   "outputs": [],
   "source": [
    "from dolfin import *\n",
    "# mu, lmbda = Constant(0.3846), Constant(0.5769)\n",
    "mu, lmbda = Constant(1.0), Constant(1.25)"
   ]
  },
  {
   "cell_type": "code",
   "execution_count": 63,
   "metadata": {},
   "outputs": [],
   "source": [
    "def sigma(u_):\n",
    "    cauchy_stress = mu * tr(epsilon(u_)) * Identity(2) + 2 * mu * epsilon(u_)\n",
    "    return cauchy_stress\n",
    "\n",
    "def epsilon(u_):\n",
    "    engineering_strain = 0.5 * (nabla_grad(u_) + nabla_grad(u_).T)\n",
    "    return engineering_strain"
   ]
  },
  {
   "cell_type": "code",
   "execution_count": 64,
   "metadata": {},
   "outputs": [],
   "source": [
    "def main(nelx, nely):\n",
    "    xdmf = XDMFFile(\"output/density.xdmf\")\n",
    "    # PREPARE FINITE ELEMENT ANALYSIS ----------------------------------    \n",
    "    mesh = RectangleMesh(Point(0, 0), Point(nelx, nely), nelx, nely, \"right/left\")\n",
    "    U = VectorFunctionSpace(mesh, \"P\", 1)\n",
    "    u, v = TrialFunction(U), TestFunction(U)\n",
    "    u_sol = Function(U)\n",
    "    # DEFINE SUPPORT ---------------------------------------------------\n",
    "    support = CompiledSubDomain(\"near(x[0], 0.0, tol) && on_boundary\", tol=1e-14)\n",
    "    bcs = [DirichletBC(U, Constant((0.0, 0.0)), support)]\n",
    "    # DEFINE LOAD ------------------------------------------------------\n",
    "    load_marker = MeshFunction(\"size_t\", mesh, mesh.topology().dim() - 1)\n",
    "    CompiledSubDomain(\"x[0]==l && x[1]<=1\", l=nelx).mark(load_marker, 1)\n",
    "    ds = Measure(\"ds\")(subdomain_data=load_marker)\n",
    "    F = dot(v, Constant((0.0, -10.0))) * ds(1)\n",
    "    # SET UP THE VARIATIONAL PROBLEM AND SOLVER ------------------------\n",
    "    L = inner(sigma(u), grad(v)) * dx\n",
    "    solver = LinearVariationalSolver(LinearVariationalProblem(L, F, u_sol, bcs))\n",
    "    xdmf.write(u_sol)\n",
    "    plot(u_sol)\n",
    "\n",
    "\n"
   ]
  },
  {
   "cell_type": "code",
   "execution_count": 65,
   "metadata": {},
   "outputs": [
    {
     "name": "stderr",
     "output_type": "stream",
     "text": [
      "/home/wsl-20/anaconda3/envs/fenics-top-workspace/lib/python3.12/site-packages/matplotlib/quiver.py:649: RuntimeWarning: divide by zero encountered in scalar divide\n",
      "  length = a * (widthu_per_lenu / (self.scale * self.width))\n",
      "/home/wsl-20/anaconda3/envs/fenics-top-workspace/lib/python3.12/site-packages/matplotlib/quiver.py:649: RuntimeWarning: invalid value encountered in multiply\n",
      "  length = a * (widthu_per_lenu / (self.scale * self.width))\n"
     ]
    },
    {
     "data": {
      "image/png": "[encoded data removed]",
      "text/plain": [
       "<Figure size 640x480 with 1 Axes>"
      ]
     },
     "metadata": {},
     "output_type": "display_data"
    }
   ],
   "source": [
    "if __name__ == \"__main__\":\n",
    "    main(nelx=60, nely=20)\n"
   ]
  },
  {
   "cell_type": "code",
   "execution_count": null,
   "metadata": {},
   "outputs": [],
   "source": []
  }
 ],
 "metadata": {
  "kernelspec": {
   "display_name": "fenics-top-workspace",
   "language": "python",
   "name": "python3"
  },
  "language_info": {
   "codemirror_mode": {
    "name": "ipython",
    "version": 3
   },
   "file_extension": ".py",
   "mimetype": "text/x-python",
   "name": "python",
   "nbconvert_exporter": "python",
   "pygments_lexer": "ipython3",
   "version": "3.12.3"
  }
 },
 "nbformat": 4,
 "nbformat_minor": 2
}
