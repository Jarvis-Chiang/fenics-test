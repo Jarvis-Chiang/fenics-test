{
 "cells": [
  {
   "cell_type": "code",
   "execution_count": 16,
   "metadata": {},
   "outputs": [],
   "source": [
    "import fenics as fe"
   ]
  },
  {
   "cell_type": "code",
   "execution_count": 17,
   "metadata": {},
   "outputs": [],
   "source": [
    "CANTILEVER_LENGTH = 5\n",
    "CANTILEVER_WIDTH = 1\n",
    "\n",
    "N_POINTS_LENGTH = 50\n",
    "N_POINTS_WIDTH = 10\n",
    "\n",
    "LAME_MU = 1.0\n",
    "LAME_LAMBDA = 1.25\n",
    "DENSITY = 1.0\n",
    "ACCELERATION_DUE_TO_GRAVITY = 0.016"
   ]
  },
  {
   "cell_type": "code",
   "execution_count": 18,
   "metadata": {},
   "outputs": [],
   "source": [
    "def main():\n",
    "    # Mesh and Vector Function Space\n",
    "    mesh = fe.BoxMesh(\n",
    "        fe.Point(0.0, 0.0, 0.0),\n",
    "        fe.Point(CANTILEVER_LENGTH, CANTILEVER_WIDTH, CANTILEVER_WIDTH),\n",
    "        N_POINTS_LENGTH,\n",
    "        N_POINTS_WIDTH,\n",
    "        N_POINTS_WIDTH,\n",
    "    )\n",
    "    lagrange_vector_space_first_order = fe.VectorFunctionSpace(\n",
    "        mesh,\n",
    "        \"Lagrange\",\n",
    "        1,\n",
    "    )\n",
    "    \n",
    "    # Boundary Conditions\n",
    "    def clamped_boundary(x, on_boundary):\n",
    "        return on_boundary and x[0] < fe.DOLFIN_EPS\n",
    "\n",
    "    dirichlet_clamped_boundary = fe.DirichletBC(\n",
    "        lagrange_vector_space_first_order,\n",
    "        fe.Constant((0.0, 0.0, 0.0)),\n",
    "        clamped_boundary,\n",
    "    )\n",
    "\n",
    "    # Define strain and stress\n",
    "    def epsilon(u):\n",
    "        engineering_strain = 0.5 * (fe.nabla_grad(u) + fe.nabla_grad(u).T)\n",
    "        return engineering_strain\n",
    "    \n",
    "    def sigma(u):\n",
    "        cauchy_stress = (\n",
    "            LAME_LAMBDA * fe.tr(epsilon(u)) * fe.Identity(3)\n",
    "            +\n",
    "            2 * LAME_MU * epsilon(u)\n",
    "        )\n",
    "        return cauchy_stress\n",
    "    \n",
    "    # Define weak form\n",
    "    u_trial = fe.TrialFunction(lagrange_vector_space_first_order)\n",
    "    v_test = fe.TestFunction(lagrange_vector_space_first_order)\n",
    "    forcing = fe.Constant((0.0, 0.0, - DENSITY * ACCELERATION_DUE_TO_GRAVITY))\n",
    "    traction = fe.Constant((0.0, 0.0, 0.0))\n",
    "\n",
    "    weak_form_lhs = fe.inner(sigma(u_trial), epsilon(v_test)) * fe.dx  # Crucial to use inner and not dot\n",
    "    weak_form_rhs = (\n",
    "        fe.dot(forcing, v_test) * fe.dx\n",
    "        +\n",
    "        fe.dot(traction, v_test) * fe.ds\n",
    "    )\n",
    "\n",
    "    # Compute solution\n",
    "    u_solution = fe.Function(lagrange_vector_space_first_order)\n",
    "    fe.solve(\n",
    "        weak_form_lhs == weak_form_rhs,\n",
    "        u_solution,\n",
    "        dirichlet_clamped_boundary,\n",
    "    )\n",
    "\n",
    "    # Compute the von Mises stress\n",
    "    deviatoric_stress_tensor = (\n",
    "        sigma(u_solution)\n",
    "        -\n",
    "        1/3 * fe.tr(sigma(u_solution)) * fe.Identity(3)\n",
    "    )\n",
    "    von_Mises_stress = fe.sqrt(3/2 * fe.inner(deviatoric_stress_tensor, deviatoric_stress_tensor))\n",
    "\n",
    "    lagrange_scalar_space_first_order = fe.FunctionSpace(\n",
    "        mesh,\n",
    "        \"Lagrange\",\n",
    "        1,\n",
    "    )\n",
    "    von_Mises_stress = fe.project(von_Mises_stress, lagrange_scalar_space_first_order)\n",
    "\n",
    "    # Write out fields for visualization with Paraview\n",
    "    u_solution.rename(\"Displacement Vector\", \"\")\n",
    "    von_Mises_stress.rename(\"von Mises stress\", \"\")\n",
    "\n",
    "    beam_deflection_file = fe.XDMFFile(\"beam_deflection.xdmf\")\n",
    "    beam_deflection_file.parameters[\"flush_output\"] = True\n",
    "    beam_deflection_file.parameters[\"functions_share_mesh\"] = True\n",
    "    beam_deflection_file.write(u_solution, 0.0)\n",
    "    beam_deflection_file.write(von_Mises_stress, 0.0)"
   ]
  },
  {
   "cell_type": "code",
   "execution_count": 19,
   "metadata": {},
   "outputs": [
    {
     "name": "stdout",
     "output_type": "stream",
     "text": [
      "Solving linear variational problem.\n"
     ]
    }
   ],
   "source": [
    "if __name__ == \"__main__\":\n",
    "    main()"
   ]
  },
  {
   "cell_type": "code",
   "execution_count": null,
   "metadata": {},
   "outputs": [],
   "source": []
  }
 ],
 "metadata": {
  "kernelspec": {
   "display_name": "fenicsprojects",
   "language": "python",
   "name": "python3"
  },
  "language_info": {
   "codemirror_mode": {
    "name": "ipython",
    "version": 3
   },
   "file_extension": ".py",
   "mimetype": "text/x-python",
   "name": "python",
   "nbconvert_exporter": "python",
   "pygments_lexer": "ipython3",
   "version": "3.12.3"
  }
 },
 "nbformat": 4,
 "nbformat_minor": 2
}
